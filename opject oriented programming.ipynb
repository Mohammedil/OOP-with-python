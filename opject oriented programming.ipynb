{
 "cells": [
  {
   "attachments": {},
   "cell_type": "markdown",
   "metadata": {},
   "source": [
    "# ***This opject oriented programming tutorial***"
   ]
  },
  {
   "cell_type": "markdown",
   "metadata": {},
   "source": [
    "### ***Object-oriented programming has four basic concepts:***\n",
    "1. Encapsulation\n",
    "2. Abstraction\n",
    "3. Inheritance\n",
    "4. Polymorphism"
   ]
  },
  {
   "cell_type": "markdown",
   "metadata": {},
   "source": [
    "#### ***instance methods***"
   ]
  },
  {
   "cell_type": "code",
   "execution_count": 11,
   "metadata": {},
   "outputs": [
    {
     "name": "stdout",
     "output_type": "stream",
     "text": [
      "<__main__.Student object at 0x00000152DF197670> <__main__.Student object at 0x00000152DF197D60>\n",
      "---------------------------\n",
      "1455441933936 1455441935712\n",
      "False\n",
      "True\n",
      "50 islam\n",
      "ali\n",
      "3\n",
      "---------------------------\n",
      "my name is ali and my age is 50\n",
      "None\n",
      "my name is islam and my age is 27\n",
      "None\n",
      "---------------------------\n",
      "student is old\n",
      "None\n",
      "Student is not old\n",
      "None\n",
      "---------------------------\n",
      "ali\n",
      "None\n",
      "khalil\n"
     ]
    }
   ],
   "source": [
    "class Student:\n",
    "    no_of_students = 0\n",
    "    def __init__(self, name, age, courses):\n",
    "        self.name = name\n",
    "        self.age = age\n",
    "        self.courses = courses\n",
    "        Student.no_of_students += 1\n",
    "\n",
    "    def get_name(self):\n",
    "        return self.name\n",
    "\n",
    "    def set_name(self, new_name):\n",
    "        self.name = new_name\n",
    "\n",
    "    def describe(self):\n",
    "        print(f\"my name is {self.name} and my age is {self.age}\")\n",
    "\n",
    "    def is_old(self, num):\n",
    "        if self.age <= num:\n",
    "            print('Student is not old')\n",
    "        else:\n",
    "            print('student is old')\n",
    "\n",
    "            \n",
    "\n",
    "student_1 = Student('islam', 50, 'python')\n",
    "student_2 = Student('islam', 35, ['css','html'])\n",
    "student_2 = Student('islam', 27, 'data analysis')\n",
    "\n",
    "print(student_1,student_2)\n",
    "print('---------------------------')\n",
    "print(id(student_1) , id(student_2))\n",
    "print(id(student_1) == id(student_2))\n",
    "print(id(student_1) != id(student_2))\n",
    "print(student_1.age,student_2.name)\n",
    "student_1.name = 'ali'\n",
    "print(student_1.name)\n",
    "print(Student.no_of_students)\n",
    "print('---------------------------')\n",
    "\n",
    "print(student_1.describe())\n",
    "print(student_2.describe())\n",
    "print('---------------------------')\n",
    "\n",
    "print(student_1.is_old(40))\n",
    "print(student_2.is_old(40))\n",
    "print('---------------------------')\n",
    "\n",
    "print(student_1.get_name())\n",
    "print(student_1.set_name('khalil'))\n",
    "print(student_1.get_name())\n"
   ]
  },
  {
   "cell_type": "code",
   "execution_count": 13,
   "metadata": {},
   "outputs": [
    {
     "name": "stdout",
     "output_type": "stream",
     "text": [
      "faisal\n",
      "faisal\n"
     ]
    }
   ],
   "source": [
    "class Student:\n",
    "    no_of_students = 0\n",
    "    def __init__(self, name, age, courses):\n",
    "        self.__name = name\n",
    "        self.__age = age\n",
    "        self.__courses = courses\n",
    "        Student.no_of_students += 1\n",
    "\n",
    "    def get_name(self):\n",
    "        return self.__name\n",
    "\n",
    "    def set_name(self, new_name):\n",
    "        self.__name = new_name\n",
    "\n",
    "    def describe(self):\n",
    "        print(f\"my name is {self.__name} and my age is {self.__age}\")\n",
    "\n",
    "    def is_old(self, num):\n",
    "        if self.__age <= num:\n",
    "            print('Student is not old')\n",
    "        else:\n",
    "            print('student is old')\n",
    "\n",
    "student_4 = Student('faisal', 24, 'php')\n",
    "\n",
    "\n",
    "print(student_4.get_name())\n",
    "student_4.name = 'nami'\n",
    "print(student_4.get_name())\n",
    "print('---------------------------')\n"
   ]
  },
  {
   "cell_type": "markdown",
   "metadata": {},
   "source": [
    "#### ***classmethod***"
   ]
  },
  {
   "cell_type": "code",
   "execution_count": 15,
   "metadata": {},
   "outputs": [
    {
     "name": "stdout",
     "output_type": "stream",
     "text": [
      "my name is islam and my age is 20\n",
      "None\n",
      "my name is ahamd and my age is 26\n",
      "None\n"
     ]
    }
   ],
   "source": [
    "from datetime import date\n",
    "\n",
    "class Student:\n",
    "    no_of_students = 0\n",
    "    def __init__(self, name, age=0):\n",
    "        self.name = name\n",
    "        self.age = age\n",
    "\n",
    "    def describe(self):\n",
    "        print(f\"my name is {self.name} and my age is {self.age}\")\n",
    "\n",
    "    @classmethod\n",
    "    def initFromBirthYear(cls, name, birthYear):\n",
    "        return cls(name, date.today().year - birthYear)\n",
    "    \n",
    "student_1 = Student('islam',20)\n",
    "student_2 = Student.initFromBirthYear('ahamd',1996)\n",
    "print(student_1.describe())\n",
    "print(student_2.describe())"
   ]
  },
  {
   "cell_type": "code",
   "execution_count": 5,
   "metadata": {},
   "outputs": [
    {
     "name": "stdout",
     "output_type": "stream",
     "text": [
      "<__main__.pizza object at 0x0000015DEF819610> <__main__.pizza object at 0x0000015DEF8199A0>\n",
      "----------\n",
      "['__class__', '__delattr__', '__dict__', '__dir__', '__doc__', '__eq__', '__format__', '__ge__', '__getattribute__', '__gt__', '__hash__', '__init__', '__init_subclass__', '__le__', '__lt__', '__module__', '__ne__', '__new__', '__reduce__', '__reduce_ex__', '__repr__', '__setattr__', '__sizeof__', '__str__', '__subclasshook__', '__weakref__', 'margherita', 'veg']\n",
      "----------\n",
      "pizza ingredients are ['meshrooms', 'olives', 'onions'] pizza ingredients are ['mazarella', 'sauce'] pizza ingredients are ['tomatoes', 'olives']\n"
     ]
    }
   ],
   "source": [
    "class pizza:\n",
    "    def __init__(self, ingredients):\n",
    "        self.ingrediens = ingredients\n",
    "\n",
    "    @classmethod\n",
    "    def veg(cls):\n",
    "        return cls(['meshrooms','olives','onions'])\n",
    "\n",
    "    @classmethod\n",
    "    def margherita(cls):\n",
    "        return cls(['mazarella', 'sauce'])\n",
    "\n",
    "\n",
    "\n",
    "pizza1 = pizza(['tomatoes', 'olives'])\n",
    "pizza2 = pizza.veg()\n",
    "pizza3 = pizza.margherita()\n",
    "print(pizza2,pizza3)\n",
    "print('----------')\n",
    "print(dir(pizza))\n",
    "\n",
    "\n",
    "\n",
    "class pizza:\n",
    "    def __init__(self, ingredients):\n",
    "        self.ingrediens = ingredients\n",
    "\n",
    "    @classmethod\n",
    "    def veg(cls):\n",
    "        return cls(['meshrooms','olives','onions'])\n",
    "\n",
    "    @classmethod\n",
    "    def margherita(cls):\n",
    "        return cls(['mazarella', 'sauce'])\n",
    "\n",
    "    def __str__(self):\n",
    "        return f\"pizza ingredients are {self.ingrediens}\"\n",
    "    \n",
    "pizza1 = pizza(['tomatoes', 'olives'])\n",
    "pizza2 = pizza.veg()\n",
    "pizza3 = pizza.margherita()\n",
    "print('----------')\n",
    "print(pizza2,pizza3,pizza1)"
   ]
  },
  {
   "cell_type": "markdown",
   "metadata": {},
   "source": [
    "#### ***statec mathod***"
   ]
  },
  {
   "cell_type": "code",
   "execution_count": 6,
   "metadata": {},
   "outputs": [
    {
     "name": "stdout",
     "output_type": "stream",
     "text": [
      "52 57 20\n",
      "-----------------\n",
      "113.04\n",
      "50.24\n"
     ]
    }
   ],
   "source": [
    "class Math:\n",
    "\n",
    "    @staticmethod\n",
    "    def add(x,y):\n",
    "        return x + y\n",
    "\n",
    "    @staticmethod\n",
    "    def add5(num):\n",
    "        return num + 5\n",
    "    \n",
    "    @staticmethod\n",
    "    def add10(num):\n",
    "        return num + 10\n",
    "    \n",
    "    @staticmethod\n",
    "    def pi():\n",
    "        return 3.14\n",
    "\n",
    "\n",
    "x = Math.add(44,8)\n",
    "y = Math.add5(x)\n",
    "z = Math.add10(10)\n",
    "print(x, y, z)\n",
    "print('-----------------')\n",
    "\n",
    "\n",
    "class pizza:\n",
    "    def __init__(self, radius, ingredients):\n",
    "        self.radius = radius\n",
    "        self.ingrediens = ingredients\n",
    "\n",
    "    def __str__(self):\n",
    "        return f\"pizza ingredients are {self.ingrediens}\"\n",
    "\n",
    "    def area(self):\n",
    "        return pizza.circle_area(self.radius)\n",
    "\n",
    "    @staticmethod\n",
    "    def circle_area(r):\n",
    "        return r ** 2 * Math.pi()\n",
    "\n",
    "p = pizza(6, ['mazzzarella','tomatoes'])\n",
    "print(p.area())\n",
    "print(pizza.circle_area(4))"
   ]
  },
  {
   "cell_type": "markdown",
   "metadata": {},
   "source": [
    "#### ***Some Examples for Inheritance and Polymorphism***"
   ]
  },
  {
   "cell_type": "code",
   "execution_count": 8,
   "metadata": {},
   "outputs": [
    {
     "name": "stdout",
     "output_type": "stream",
     "text": [
      "name is islam and age is 30 and voice is hard and gender is Male\n",
      "2\n"
     ]
    }
   ],
   "source": [
    "class person:\n",
    "    def __init__(self, name, age):\n",
    "        self.name = name\n",
    "        self.age = age\n",
    "\n",
    "    def display(self):\n",
    "        return f\"name is {self.name} and age is {self.age}\"\n",
    "\n",
    "\n",
    "class man(person):\n",
    "    gender = 'Male'\n",
    "    no_of_men = 0\n",
    "\n",
    "    def __init__(self, name, age, voice):\n",
    "        super().__init__(name, age)\n",
    "        self.voice = voice\n",
    "        man.no_of_men += 1\n",
    "\n",
    "    def display(self):\n",
    "        string = super().display()\n",
    "        return string + f\" and voice is {self.voice} and gender is {self.gender}\"\n",
    "\n",
    "\n",
    "mman = man('islam', 30, 'hard')\n",
    "mann = man('khaled', 40, 'soft')\n",
    "print(mman.display())\n",
    "print(man.no_of_men)"
   ]
  }
 ],
 "metadata": {
  "kernelspec": {
   "display_name": "Python 3.9.12 ('base')",
   "language": "python",
   "name": "python3"
  },
  "language_info": {
   "codemirror_mode": {
    "name": "ipython",
    "version": 3
   },
   "file_extension": ".py",
   "mimetype": "text/x-python",
   "name": "python",
   "nbconvert_exporter": "python",
   "pygments_lexer": "ipython3",
   "version": "3.9.12"
  },
  "orig_nbformat": 4,
  "vscode": {
   "interpreter": {
    "hash": "c104510c646bf96f18b996e66941a6bd207ecb29f3b2c132ad3b1812f0285828"
   }
  }
 },
 "nbformat": 4,
 "nbformat_minor": 2
}
